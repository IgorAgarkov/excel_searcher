{
 "cells": [
  {
   "cell_type": "code",
   "execution_count": 13,
   "metadata": {},
   "outputs": [],
   "source": [
    "from pathlib import Path\n",
    "import pandas as pd"
   ]
  },
  {
   "cell_type": "code",
   "execution_count": 53,
   "metadata": {},
   "outputs": [
    {
     "name": "stdout",
     "output_type": "stream",
     "text": [
      "D:\\Рабочая\\Заказы\\2021\\Заявка №454 2021.08.30\\snab.xlsx\n",
      "D:\\Рабочая\\Заказы\\2021\\Заявка №454 2021.08.30\\Формирование заказа.xlsx\n",
      "D:\\Рабочая\\Заказы\\2021\\Заявка №669 2021.12.27\\product_list.xlsx\n",
      "D:\\Рабочая\\Заказы\\2021\\Заявка №669 2021.12.27\\snab.xlsx\n"
     ]
    }
   ],
   "source": [
    "text = 'индуктивн'\n",
    "path = Path(r'D:\\Рабочая\\Заказы')\n",
    "result = []\n",
    "for excel_path in path.glob('**/*.xlsx'):  # .glob() возвращает все файлы по указанному шаблону по указанному пути. **/.xlsx - значит сколько угодно папок и директорий (**), затем берём файлы заканчивающиеся на .xlsx\n",
    "     temp_df = pd.read_excel(excel_path)\n",
    "     for col in temp_df.columns:\n",
    "          if temp_df[col].astype('str').str.lower().str.contains(text).any():\n",
    "               result.append(str(excel_path))\n",
    "               break\n",
    "print(*result, sep='\\n')"
   ]
  },
  {
   "cell_type": "code",
   "execution_count": null,
   "metadata": {},
   "outputs": [],
   "source": []
  }
 ],
 "metadata": {
  "interpreter": {
   "hash": "cef9e06bb236b2a8629b07e87a04b187b952a0f661eff5533360a155783f0c33"
  },
  "kernelspec": {
   "display_name": "Python 3.8.8 ('base')",
   "language": "python",
   "name": "python3"
  },
  "language_info": {
   "codemirror_mode": {
    "name": "ipython",
    "version": 3
   },
   "file_extension": ".py",
   "mimetype": "text/x-python",
   "name": "python",
   "nbconvert_exporter": "python",
   "pygments_lexer": "ipython3",
   "version": "3.8.8"
  },
  "orig_nbformat": 4
 },
 "nbformat": 4,
 "nbformat_minor": 2
}
